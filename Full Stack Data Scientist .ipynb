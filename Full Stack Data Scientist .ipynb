{
 "cells": [
  {
   "cell_type": "markdown",
   "metadata": {},
   "source": [
    "##  **Who is a Full Stack Data Scientist?**"
   ]
  },
  {
   "cell_type": "markdown",
   "metadata": {},
   "source": [
    "A full-stack data scientist is a jack-of-all trades who engineers and works on each stage in the data science lifecycle, from beginning to end.\n",
    "\n",
    "The scope of a **full stack data scientist** covers every component of a data science business initiative, from identifying to training to deploying machine learning models that provide benefit to stakeholders."
   ]
  },
  {
   "cell_type": "markdown",
   "metadata": {},
   "source": [
    ">> **So we can say, full-stack data scientist is someone who takes a data-driven concept from identification/ideation through to execution that results in some tangible, measurable and impactful improvement. There is a heavy emphasis on being able to drive an organization to do something, not just analyze something. In the technical sense “full-stack” in the data science realm has a lot of parallels with descriptions of full-stack developers—i.e., one that can handle all aspects of the technical development process.**"
   ]
  },
  {
   "cell_type": "markdown",
   "metadata": {},
   "source": [
    "### **Basic stages in the data science lifecycle that can be owned by a full stack data scientist:**"
   ]
  },
  {
   "cell_type": "markdown",
   "metadata": {},
   "source": [
    "![alt text](images/businessproblem.png )"
   ]
  },
  {
   "cell_type": "markdown",
   "metadata": {},
   "source": [
    "**1).  Business problem.**\n",
    "\n",
    ". Unless research-oriented, all data science projects should start with a problem that adds value to a business either through efficiency gains, automation, or new capabilities. \n",
    "\n",
    "**2. Data collection/identification.**\n",
    "\n",
    "Machine learning requires quality data to build a quality model for use.\n",
    "\n",
    "**3). Data exploration and analysis.**\n",
    "\n",
    "The data must be analyzed and understood before a model can be built.\n",
    "\n",
    "**4). Machine learning.**\n",
    "\n",
    "Train a model to solve the business problem given the data.\n",
    "\n",
    "**5. Model analysis and acceptance.**\n",
    "\n",
    "Analyze the model results and behavior. Share with stakeholders for approval.\n",
    "\n",
    "**6. Model deployment.**\n",
    "\n",
    "Make the model accessible to the end-user.\n",
    "\n",
    "\n",
    "**7. Model monitoring.**\n",
    "\n",
    "Ensure that the model behaves as expected in the future."
   ]
  },
  {
   "cell_type": "markdown",
   "metadata": {},
   "source": [
    "**Full stack data scientist's Skillset**\n",
    "\n",
    "**Business Acumen**\n",
    "A full stack data scientist must be able to identify and understand business problems and  opportunities  that can be solved using the data science toolkit.\n",
    "In order to prioritize projects and process flows with most value to their organization, they must understand the needs and goals of their organization.\n",
    "\n",
    "**Collaboration**\n",
    "Full stack data scientists  collaborate with stakeholders to identify existing problems or inefficiencies that can be solved with data science. Once problems are identified, collaboration is essential to ensure that the result is acceptable and meets their needs.\n",
    "\n",
    "**Communication**\n",
    "Effective communication with the business via oral and written mediums allows for better collaboration and “selling” the model to the end-users. This means tailoring data science ideas, results, and value in plain language to non-technical audiences. In some cases, the end-user must understand and trust the model before they choose to use it.\n",
    "\n",
    "**Programming**\n",
    "A full stack data scientist must be able to write clean, efficient object-oriented code that works reliably in production. Ideally, such code will be modular and each function or class validated by unit tests.\n",
    "\n",
    "**Data Analysis and Exploration**\n",
    "This skill is essential because useful machine learning models cannot be built without data understanding.\n",
    "\n",
    "**Machine Learning and Statistics.**\n",
    "Perhaps this is a given — without machine learning or statistics, the work is not “data science”. A full stack data scientist must be able to experiment with appropriate machine learning algorithms to solve machine learning problems.\n",
    "\n",
    "It is worth highlighting that sometimes implementing logical or business rules over a machine learning solution results in immediate value to the business, despite the simplicity. A machine learning model can take weeks or months to get right whereas a business rule may be “good enough” for now.\n",
    "\n",
    "**Model Deployment / Data Engineering**\n",
    "Lastly, a full stack data scientist must have the skill to deploy model pipelines to production. Model pipelines allow the end-user to query a model with data or access pre-generated model results in a desired way. If no deployment mechanism exists, they must be able to design and set up this pipeline.\n",
    "\n",
    "If a model is not deployed (or perhaps presented in a business analysis), it is not useful and does not provide business value. \n"
   ]
  },
  {
   "cell_type": "markdown",
   "metadata": {},
   "source": [
    "\n",
    "A full stack data scientist goes above and beyond the typical data scientist role in two ways:\n",
    "\n",
    "- Links business needs to machine learning (or not machine learning ) solutions\n",
    "- Deploys models to “production”\n",
    "\n",
    "These two elements are the keys to any organization extracting value from data science — solving the right problems and making them accessible to the end-user."
   ]
  }
 ],
 "metadata": {
  "kernelspec": {
   "display_name": "Python 3",
   "language": "python",
   "name": "python3"
  },
  "language_info": {
   "codemirror_mode": {
    "name": "ipython",
    "version": 3
   },
   "file_extension": ".py",
   "mimetype": "text/x-python",
   "name": "python",
   "nbconvert_exporter": "python",
   "pygments_lexer": "ipython3",
   "version": "3.7.3"
  }
 },
 "nbformat": 4,
 "nbformat_minor": 2
}
